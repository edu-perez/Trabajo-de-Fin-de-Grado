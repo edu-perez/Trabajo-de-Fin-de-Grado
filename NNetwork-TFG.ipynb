{
 "cells": [
  {
   "cell_type": "code",
   "execution_count": 74,
   "metadata": {},
   "outputs": [],
   "source": [
    "import pandas\n",
    "import tensorflow as tf\n",
    "import numpy as np"
   ]
  },
  {
   "cell_type": "markdown",
   "metadata": {},
   "source": [
    "El código está hecho bastante genérico, de forma que si se cambia el tamaño de las matrices del fichero, o el formato en el que están escritas, solo será necesario cambiar algunos números en esta primera función (o hacer otra y aplicarla en la siguiente celda)"
   ]
  },
  {
   "cell_type": "code",
   "execution_count": 75,
   "metadata": {},
   "outputs": [],
   "source": [
    "def txt_to_array(name):\n",
    "    #Función q pasa los datos del fichero indicado a un vector de matrices complejas.\n",
    "    #Esta hecha para el formato en el q Dani me ha pasado los datos entangled.txt y separable.txt\n",
    "    #Estos 2 ficheros tienen q estar en la misma carpeta q este código.\n",
    "    \n",
    "    ncol = max(len(l.split()) for l in open(name))\n",
    "    df = pandas.read_table(name, \n",
    "                       delim_whitespace=True, \n",
    "                       header=None, \n",
    "                       usecols=range(ncol), \n",
    "                       engine='python')\n",
    "    \n",
    "    #Creamos el np.array\n",
    "    a=np.array(df.fillna(0))#con esto rellenamos de 0 los huecos vacíos. (la 5ª fila de cada matriz solo tiene un 1 o 0)\n",
    "    #Ahora mismo tengo un vector con 50000 filas y 8 columnas\n",
    "    \n",
    "    #Creo un vector con 10.000 matrices de 5x8\n",
    "    b=np.zeros(shape=(10000,5,8))\n",
    "    k=-1\n",
    "    for i in range (0,a.shape[0]):\n",
    "        if(i%5==0):\n",
    "            k=k+1\n",
    "            p=-1\n",
    "        p=p+1\n",
    "        for j in range (0,a.shape[1]):\n",
    "            #print(k,p,j,i,j)\n",
    "            b[k,p,j]=a[i,j]\n",
    "            \n",
    "    #Elimino la 5ª fila de cada matriz, q es donde está especificado si es entangled o separable\n",
    "    c=np.zeros(shape=(10000,4,8))\n",
    "    for i in range (0,b.shape[0]):\n",
    "        c[i]=np.delete(b[i],4,axis=0)\n",
    "        \n",
    "    #Transformo las matrices 4x8 en 4x4 complejas\n",
    "    vector_matrices=np.zeros(shape=(10000,4,4))+np.zeros(shape=(10000,4,4))*1j\n",
    "    for i in range(0,c.shape[0]):\n",
    "        for j in range(0,c.shape[1]):\n",
    "            for k in range(0,c.shape[2],2):\n",
    "                p=np.int(k/2)\n",
    "                vector_matrices[i,j,p]=c[i,j,k]+c[i,j,k+1]*1j\n",
    "    \n",
    "    return vector_matrices\n",
    "    "
   ]
  },
  {
   "cell_type": "code",
   "execution_count": 76,
   "metadata": {},
   "outputs": [],
   "source": [
    "def txt_to_array_2(name):\n",
    "    #Función q pasa los datos del fichero indicado a un vector de matrices complejas.\n",
    "    #Esta hecha para el formato en el q Dani ha pasado el 2º set de datos (4 ficheros).\n",
    "    #Cada fila es una matriz y tiene 32 columnas: real-complejo, real - complejo ...\n",
    "    #Estos ficheros tienen q estar en la misma carpeta q este código.\n",
    "    ncol = max(len(l.split()) for l in open(name))\n",
    "    df = pandas.read_table(name, \n",
    "                       delim_whitespace=True, \n",
    "                       header=None, \n",
    "                       usecols=range(ncol), \n",
    "                       engine='python')\n",
    "    #print(df.shape)\n",
    "    #Hacemos el vector df un vector numpy\n",
    "    df=np.array(df)\n",
    "    #Pasamos a shape=10.000,4,8\n",
    "    a=np.zeros(shape=(10000,4,8))\n",
    "    \n",
    "    for i in range (0,df.shape[0]):\n",
    "        k=-1\n",
    "        for j in range (0,df.shape[1]):\n",
    "            if(j%8==0):\n",
    "                k=k+1\n",
    "                p=-1\n",
    "            p=p+1\n",
    "            #print(k,p,j,i,j)\n",
    "            a[i,k,p]=df[i,j]\n",
    "            \n",
    "    #Transformo las matrices 4x8 en 4x4 complejas\n",
    "    vector_matrices=np.zeros(shape=(10000,4,4))+np.zeros(shape=(10000,4,4))*1j\n",
    "    for i in range(0,a.shape[0]):\n",
    "        for j in range(0,a.shape[1]):\n",
    "            for k in range(0,a.shape[2],2):\n",
    "                p=np.int(k/2)\n",
    "                vector_matrices[i,j,p]=a[i,j,k]+a[i,j,k+1]*1j\n",
    "\n",
    "        \n",
    "        \n",
    "    return vector_matrices\n",
    "    "
   ]
  },
  {
   "cell_type": "code",
   "execution_count": 77,
   "metadata": {},
   "outputs": [],
   "source": [
    "entangled=txt_to_array(\"entangled_old.txt\")\n",
    "separable=txt_to_array(\"separable_old.txt\")\n",
    "#print(separable.shape)\n",
    "#print(\" \")\n",
    "#separable[0]"
   ]
  },
  {
   "cell_type": "markdown",
   "metadata": {},
   "source": [
    "Ahora mismo tenemos 2 vectores de matrices complejas 4x4, cada vector con 10.000 matrices.\n",
    "Se procede crear una función para aplicar el criterio ppt."
   ]
  },
  {
   "cell_type": "code",
   "execution_count": 78,
   "metadata": {},
   "outputs": [],
   "source": [
    "def PT_B(M, d1, d2):\n",
    "    \"\"\"\n",
    "    Partial Transpose map of M\n",
    "    Input: Matrix M, Dimension d1 of subsystem 1, Dimension d2 of subsystem 2\n",
    "    Output: Partial Transpose M_TB\n",
    "    \"\"\"\n",
    "    assert M.shape == (d1 * d2, d1 * d2)\n",
    "\n",
    "    # Reshape into 4 tensor\n",
    "    M = M.reshape(d1, d2, d1, d2)\n",
    "\n",
    "    # Transpose 2nd system\n",
    "    M = M.transpose((0, 3, 2, 1))\n",
    "\n",
    "    # Reshape back into a density matrix\n",
    "    return M.reshape(d1 * d2, d1 * d2)"
   ]
  },
  {
   "cell_type": "code",
   "execution_count": 79,
   "metadata": {},
   "outputs": [
    {
     "name": "stdout",
     "output_type": "stream",
     "text": [
      "[ 1.00000052e+00-2.80284071e-17j  6.84248738e-07-4.67229456e-18j\n",
      " -2.65917374e-07+1.48545264e-17j -9.35622523e-07-7.01580342e-18j]\n"
     ]
    }
   ],
   "source": [
    "#Esto es una mera comprobación de q los autovalores son reales.\n",
    "x=PT_B(separable[1],2,2)\n",
    "#print(x)\n",
    "z=np.linalg.eig(x)#z[0] son los autoval. y z[1] los autovect.\n",
    "#len(z[0])\n",
    "print(z[0])"
   ]
  },
  {
   "cell_type": "code",
   "execution_count": 80,
   "metadata": {},
   "outputs": [],
   "source": [
    "def ppt_criterion(p):\n",
    "    #función q recibe una matriz densidad (autoadjunta y traza=1) y devuelve si pertenece a un estado\n",
    "    #entangled (1) o a uno separable (0), aplicando el Peres-Horodecki Criterion\"\n",
    "    \n",
    "    salida=0\n",
    "    p_trasp_parcial=PT_B(p,2,2)#traspuesta parcial de una matriz densidad p de 2 subsistemas con dim 2\n",
    "    z=np.linalg.eig(p_trasp_parcial)#Se crea una tupla con los autovalores z[0] y autovectores z[1]\n",
    "    #Los autoval. son reales aunque normalmente la parte imaginaria no se hace cero, sino ~1.0e-16\n",
    "    for i in range(0,len(z[0])):\n",
    "        if(z[0][i]<-1.0e-4):#le meto algo de tolerancia, ya q con muchas matrices separables (0) se obtienen autoval -1e-7 aprox\n",
    "            salida=1    #autoval negativo = entrelazado\n",
    "            \n",
    "\n",
    "    return salida"
   ]
  },
  {
   "cell_type": "code",
   "execution_count": 81,
   "metadata": {},
   "outputs": [
    {
     "name": "stdout",
     "output_type": "stream",
     "text": [
      "1\n"
     ]
    }
   ],
   "source": [
    "x=ppt_criterion(entangled[5])\n",
    "print(x)"
   ]
  },
  {
   "cell_type": "markdown",
   "metadata": {},
   "source": [
    "Creamos el vector examples con las 10.000 + 10.000, mezclando aleatoriamente.\n",
    "Recuerda q hay q inicializarlo como complejo."
   ]
  },
  {
   "cell_type": "code",
   "execution_count": 82,
   "metadata": {},
   "outputs": [
    {
     "data": {
      "text/plain": [
       "(20000, 4, 4)"
      ]
     },
     "execution_count": 82,
     "metadata": {},
     "output_type": "execute_result"
    }
   ],
   "source": [
    "examples=np.zeros(shape=(entangled.shape[0]+separable.shape[0],entangled.shape[1],entangled.shape[2]))+np.zeros(shape=(entangled.shape[0]+separable.shape[0],entangled.shape[1],entangled.shape[2]))*1j\n",
    "#examples=np.append(entangled,separable)\n",
    "#examples=entangled\n",
    "#examples.shape\n",
    "for i in range (0,entangled.shape[0]):\n",
    "    examples[i]=entangled[i]\n",
    "\n",
    "for i in range (entangled.shape[0],entangled.shape[0]+separable.shape[0]):#Desde 10.000 a 20.000 vaya\n",
    "    examples[i]=separable[i-entangled.shape[0]]\n",
    "examples.shape\n",
    "#ppt_criterion(examples[0])\n",
    "#print(examples[19999])"
   ]
  },
  {
   "cell_type": "code",
   "execution_count": 83,
   "metadata": {},
   "outputs": [
    {
     "name": "stdout",
     "output_type": "stream",
     "text": [
      "(16000, 4, 4)\n",
      "(4000, 4, 4)\n",
      "1\n",
      "0\n"
     ]
    }
   ],
   "source": [
    "np.random.shuffle(examples)#mezclamos aleatoriamente los elementos del vector.\n",
    "np.random.shuffle(examples)\n",
    "#ppt_criterion(examples[25])\n",
    "\n",
    "#80% para entrenamiento\n",
    "aux=np.int(0.8*examples.shape[0])\n",
    "train=np.zeros(shape=(aux,examples.shape[1],examples.shape[2]))+np.zeros(shape=(aux,examples.shape[1],examples.shape[2]))*1j\n",
    "\n",
    "#20% para probarlos\n",
    "aux=np.int(0.2*examples.shape[0])\n",
    "test=np.zeros(shape=(aux,examples.shape[1],examples.shape[2]))+np.zeros(shape=(aux,examples.shape[1],examples.shape[2]))*1j\n",
    "\n",
    "for i in range (0,train.shape[0]):\n",
    "    train[i]=examples[i]\n",
    "    \n",
    "for i in range(train.shape[0],train.shape[0]+test.shape[0]):#de 16.000 a 20.000 vaya\n",
    "    test[i-train.shape[0]]=examples[i]\n",
    "    \n",
    "print(train.shape)\n",
    "print(test.shape)\n",
    "print(ppt_criterion(train[15999]))\n",
    "print(ppt_criterion(test[0]))"
   ]
  },
  {
   "cell_type": "markdown",
   "metadata": {},
   "source": [
    "-----------------------------------------------------------------------------\n",
    "Aplico la función ppt_criterion para tener las salidas de la red.\n",
    "\n",
    "¡¡¡¡¡IMPORTANTE: SI SE EJECUTA LA CELDA ANTERIOR HAY Q EJECUTAR LA QUE SIGUE. SINO EL VECTOR y CON EL QUE LA RED APRENDE NO ESTÁ SINCRONIZADO CON EL DE ENTRENAMIENTO."
   ]
  },
  {
   "cell_type": "code",
   "execution_count": 84,
   "metadata": {},
   "outputs": [
    {
     "name": "stdout",
     "output_type": "stream",
     "text": [
      "(16000, 1)\n",
      "(4000, 1)\n",
      "8041.0\n",
      "1959.0\n"
     ]
    }
   ],
   "source": [
    "y_train=np.zeros(shape=(train.shape[0],1))\n",
    "y_test=np.zeros(shape=(test.shape[0],1))\n",
    "\n",
    "for i in range(0,train.shape[0]):\n",
    "    y_train[i]=ppt_criterion(train[i])\n",
    "    \n",
    "for i in range(0,test.shape[0]):\n",
    "    y_test[i]=ppt_criterion(test[i])\n",
    "    \n",
    "print(y_train.shape)\n",
    "print(y_test.shape)\n",
    "print(np.sum(y_train))\n",
    "print(np.sum(y_test))"
   ]
  },
  {
   "cell_type": "markdown",
   "metadata": {},
   "source": [
    "    --------------------------------------------------------------------------------------------------------------------\n",
    "Los vectores y son los que evaluarán la red.\n",
    "Ahora antes de meter el train y el test en la red hay que prepararlos para ello.\n",
    "Recuerda que la red no acepta números complejos.\n",
    "Ojo q aunque los de la diagonal realmente tengan parte imaginaria 0, para el ordenador tienen una parte imag. muy muy pequeña.\n",
    "Para codificarlos, dado que la matriz es hermítica, necesito 16 números reales: 4 hacen referencia a los reales de la diagonal, 6 a los reales que están x encima de la diagonal, y otros 6 a los complejos. Supongo que el orden en el que se los meta no importa."
   ]
  },
  {
   "cell_type": "code",
   "execution_count": 85,
   "metadata": {},
   "outputs": [],
   "source": [
    "##Esto por si quiero testear con otros datos. Compilar este cuadro, el siguiente, y los 2 últimos. En el penúltimo hay q poner\n",
    "##la y_test que corresponda con np.ones o zeros.\n",
    "#test=txt_to_array_2('mixed_entangled.txt')"
   ]
  },
  {
   "cell_type": "code",
   "execution_count": 86,
   "metadata": {},
   "outputs": [
    {
     "name": "stdout",
     "output_type": "stream",
     "text": [
      "(16000, 16)\n",
      "(4000, 16)\n"
     ]
    }
   ],
   "source": [
    "x_train=np.zeros(shape=(train.shape[0],train.shape[1]*train.shape[2]))  #16000 ejemplos con 16 reales cada uno para el entrenamiento.\n",
    "x_test=np.zeros(shape=(test.shape[0],test.shape[1]*test.shape[2]))\n",
    "for p in range(0,x_train.shape[0]):\n",
    "    k=0\n",
    "    for i in range(0,train.shape[1]):\n",
    "        for j in range(i, train.shape[2]):     #Partiendo con j desde i solo cojo los valores a la derecha de la diagonal\n",
    "            if(i==j):                            #si el nº está en la diagonal nos quedamos con la parte real solo\n",
    "                x_train[p,k]=train[p,i,j].real\n",
    "                k=k+1\n",
    "            else:\n",
    "                x_train[p,k]=train[p,i,j].real\n",
    "                k=k+1\n",
    "                x_train[p,k]=train[p,i,j].imag\n",
    "                k=k+1\n",
    "            #print(i,\"    \",j,\"     \",k)\n",
    "            \n",
    "            \n",
    "for p in range(0,x_test.shape[0]):\n",
    "    k=0\n",
    "    for i in range(0,test.shape[1]):\n",
    "        for j in range(i, test.shape[2]):\n",
    "            if(i==j):                            #si el nº está en la diagonal nos quedamos con la parte real solo\n",
    "                x_test[p,k]=test[p,i,j].real\n",
    "                k=k+1\n",
    "            else:\n",
    "                x_test[p,k]=test[p,i,j].real\n",
    "                k=k+1\n",
    "                x_test[p,k]=test[p,i,j].imag\n",
    "                k=k+1\n",
    "                    \n",
    "print(x_train.shape)\n",
    "print(x_test.shape)\n",
    "#print(x_train[0])\n",
    "#print(\"     \")\n",
    "#print(train[0])"
   ]
  },
  {
   "cell_type": "markdown",
   "metadata": {},
   "source": [
    "---------------------------\n",
    "Finalmente se introduce todo en la red."
   ]
  },
  {
   "cell_type": "code",
   "execution_count": 87,
   "metadata": {},
   "outputs": [],
   "source": [
    "from tensorflow import keras\n",
    "from keras.models import Sequential\n",
    "from keras.layers.core import Dense"
   ]
  },
  {
   "cell_type": "code",
   "execution_count": 88,
   "metadata": {
    "scrolled": true
   },
   "outputs": [
    {
     "name": "stdout",
     "output_type": "stream",
     "text": [
      "Epoch 1/15\n",
      "16000/16000 [==============================] - 1s 48us/step - loss: 0.2372 - binary_accuracy: 0.9249\n",
      "Epoch 2/15\n",
      "16000/16000 [==============================] - 1s 37us/step - loss: 0.0018 - binary_accuracy: 1.0000\n",
      "Epoch 3/15\n",
      "16000/16000 [==============================] - 1s 35us/step - loss: 4.5673e-04 - binary_accuracy: 1.0000\n",
      "Epoch 4/15\n",
      "16000/16000 [==============================] - 1s 34us/step - loss: 1.9551e-04 - binary_accuracy: 1.0000\n",
      "Epoch 5/15\n",
      "16000/16000 [==============================] - 1s 35us/step - loss: 1.0387e-04 - binary_accuracy: 1.0000\n",
      "Epoch 6/15\n",
      "16000/16000 [==============================] - 1s 34us/step - loss: 6.1623e-05 - binary_accuracy: 1.0000\n",
      "Epoch 7/15\n",
      "16000/16000 [==============================] - 1s 35us/step - loss: 3.9120e-05 - binary_accuracy: 1.0000\n",
      "Epoch 8/15\n",
      "16000/16000 [==============================] - 1s 33us/step - loss: 2.5962e-05 - binary_accuracy: 1.0000\n",
      "Epoch 9/15\n",
      "16000/16000 [==============================] - 1s 35us/step - loss: 1.7866e-05 - binary_accuracy: 1.0000\n",
      "Epoch 10/15\n",
      "16000/16000 [==============================] - 1s 33us/step - loss: 1.2468e-05 - binary_accuracy: 1.0000\n",
      "Epoch 11/15\n",
      "16000/16000 [==============================] - 1s 35us/step - loss: 8.8666e-06 - binary_accuracy: 1.0000\n",
      "Epoch 12/15\n",
      "16000/16000 [==============================] - 1s 33us/step - loss: 6.3840e-06 - binary_accuracy: 1.0000\n",
      "Epoch 13/15\n",
      "16000/16000 [==============================] - 1s 37us/step - loss: 4.6508e-06 - binary_accuracy: 1.0000\n",
      "Epoch 14/15\n",
      "16000/16000 [==============================] - 1s 34us/step - loss: 3.4020e-06 - binary_accuracy: 1.0000\n",
      "Epoch 15/15\n",
      "16000/16000 [==============================] - 1s 36us/step - loss: 2.5054e-06 - binary_accuracy: 1.0000\n"
     ]
    }
   ],
   "source": [
    " \n",
    "model = Sequential()\n",
    "model.add(Dense(32, input_dim=x_train.shape[1], activation='relu'))\n",
    "#model.add(Dense(32, activation='relu'))\n",
    "model.add(Dense(8, activation='relu'))\n",
    "model.add(Dense(1, activation='sigmoid'))\n",
    " \n",
    "model.compile(loss=\"binary_crossentropy\",\n",
    "              optimizer='adam',\n",
    "              metrics=['binary_accuracy'])\n",
    " \n",
    "history=model.fit(x_train, y_train, epochs=15)#, validation_data=(x_test,y_test))\n",
    " \n"
   ]
  },
  {
   "cell_type": "code",
   "execution_count": 89,
   "metadata": {},
   "outputs": [
    {
     "name": "stdout",
     "output_type": "stream",
     "text": [
      "4000/4000 [==============================] - 0s 23us/step\n",
      "2.1328196703507273e-06\n",
      "1.0\n"
     ]
    }
   ],
   "source": [
    "val_loss, val_acc = model.evaluate(x_test, y_test)\n",
    "print(val_loss)\n",
    "print(val_acc)"
   ]
  },
  {
   "cell_type": "code",
   "execution_count": 90,
   "metadata": {},
   "outputs": [],
   "source": [
    "import matplotlib.pyplot as plt"
   ]
  },
  {
   "cell_type": "code",
   "execution_count": 91,
   "metadata": {},
   "outputs": [
    {
     "data": {
      "text/plain": [
       "[<matplotlib.lines.Line2D at 0x2b5d51dde08>]"
      ]
     },
     "execution_count": 91,
     "metadata": {},
     "output_type": "execute_result"
    },
    {
     "data": {
      "image/png": "[encoded data removed]",
      "text/plain": [
       "<Figure size 432x288 with 1 Axes>"
      ]
     },
     "metadata": {
      "needs_background": "light"
     },
     "output_type": "display_data"
    }
   ],
   "source": [
    "plt.plot(history.history['loss'])\n",
    "#plt.plot(history.history['val_loss'])"
   ]
  },
  {
   "cell_type": "code",
   "execution_count": 92,
   "metadata": {},
   "outputs": [
    {
     "data": {
      "text/plain": [
       "<matplotlib.legend.Legend at 0x2b5d5457048>"
      ]
     },
     "execution_count": 92,
     "metadata": {},
     "output_type": "execute_result"
    },
    {
     "data": {
      "image/png": "[encoded data removed]",
      "text/plain": [
       "<Figure size 432x288 with 1 Axes>"
      ]
     },
     "metadata": {
      "needs_background": "light"
     },
     "output_type": "display_data"
    }
   ],
   "source": [
    "plt.plot(history_mixed.history['loss'], label='Mixed states')\n",
    "plt.plot(history.history['loss'], label='Pure states')\n",
    "plt.title('Learning process')\n",
    "plt.xlabel('Epochs')\n",
    "plt.ylabel('Loss function')\n",
    "plt.legend()"
   ]
  },
  {
   "cell_type": "markdown",
   "metadata": {},
   "source": [
    "------------------------------\n",
    "Y para verlo con mis propios ojos:"
   ]
  },
  {
   "cell_type": "code",
   "execution_count": 93,
   "metadata": {},
   "outputs": [
    {
     "name": "stdout",
     "output_type": "stream",
     "text": [
      "[[0.]\n",
      " [0.]\n",
      " [0.]\n",
      " ...\n",
      " [0.]\n",
      " [0.]\n",
      " [0.]]\n"
     ]
    }
   ],
   "source": [
    "q=model.predict(x_test).round()#salida de la red correspondiente a lo que introduzca en el paréntesis\n",
    "print(q)"
   ]
  },
  {
   "cell_type": "code",
   "execution_count": 94,
   "metadata": {},
   "outputs": [
    {
     "name": "stdout",
     "output_type": "stream",
     "text": [
      "[ 0.026064  0.013127  0.056403  0.052292  0.03125  -0.041289  0.1289\n",
      "  0.128669  0.093962 -0.097423  0.258148  0.15427   0.142382  0.07171\n",
      "  0.308116  0.702885]\n",
      " \n",
      "[[ 0.026064+0.j        0.013127+0.056403j  0.052292+0.03125j\n",
      "  -0.041289+0.1289j  ]\n",
      " [ 0.013127-0.056403j  0.128669+0.j        0.093962-0.097423j\n",
      "   0.258148+0.15427j ]\n",
      " [ 0.052292-0.03125j   0.093962+0.097423j  0.142382+0.j\n",
      "   0.07171 +0.308116j]\n",
      " [-0.041289-0.1289j    0.258148-0.15427j   0.07171 -0.308116j\n",
      "   0.702885+0.j      ]]\n",
      " \n",
      "0\n",
      "[0.]\n"
     ]
    }
   ],
   "source": [
    "r=3999\n",
    "print(x_test[r])\n",
    "print(\" \")\n",
    "print(test[r])#matriz densidad correspondiente al x_test que se le mete a la red\n",
    "print(\" \")\n",
    "print(ppt_criterion(test[r]))#Este nº y el de abajo ( q es el q sale de la red) tienen q ser los mismos.\n",
    "print(q[r])"
   ]
  },
  {
   "cell_type": "code",
   "execution_count": 95,
   "metadata": {},
   "outputs": [],
   "source": [
    "#y_test=np.ones(shape=x_test.shape[0])\n",
    "#y_test.shape"
   ]
  },
  {
   "cell_type": "code",
   "execution_count": 96,
   "metadata": {},
   "outputs": [],
   "source": [
    "#val_loss, val_acc = model.evaluate(x_test, y_test)\n",
    "#print(val_loss)\n",
    "#print(val_acc)"
   ]
  }
 ],
 "metadata": {
  "kernelspec": {
   "display_name": "Python 3",
   "language": "python",
   "name": "python3"
  },
  "language_info": {
   "codemirror_mode": {
    "name": "ipython",
    "version": 3
   },
   "file_extension": ".py",
   "mimetype": "text/x-python",
   "name": "python",
   "nbconvert_exporter": "python",
   "pygments_lexer": "ipython3",
   "version": "3.7.6"
  }
 },
 "nbformat": 4,
 "nbformat_minor": 4
}
